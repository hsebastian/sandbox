{
 "metadata": {
  "name": "Dictionaries and Namespaces"
 }, 
 "nbformat": 2, 
 "worksheets": [
  {
   "cells": [
    {
     "cell_type": "code", 
     "collapsed": true, 
     "input": [
      "import types"
     ], 
     "language": "python", 
     "outputs": [], 
     "prompt_number": 29
    }, 
    {
     "cell_type": "code", 
     "collapsed": false, 
     "input": [
      "num_to_name = [None, 'jan', 'feb', 'mar']", 
      "assert num_to_name[1] == 'jan'", 
      "assert num_to_name[2] == 'feb'"
     ], 
     "language": "python", 
     "outputs": [], 
     "prompt_number": 14
    }, 
    {
     "cell_type": "code", 
     "collapsed": false, 
     "input": [
      "name_to_num = {'jan': 1, 'feb': 2, 'mar': 3}", 
      "assert name_to_num['jan'] == 1"
     ], 
     "language": "python", 
     "outputs": [], 
     "prompt_number": 15
    }, 
    {
     "cell_type": "code", 
     "collapsed": false, 
     "input": [
      "import sys", 
      "assert sys.__name__ in dir()", 
      "a = 2", 
      "assert 'a' in dir()"
     ], 
     "language": "python", 
     "outputs": [], 
     "prompt_number": 19
    }, 
    {
     "cell_type": "code", 
     "collapsed": true, 
     "input": [
      "del a", 
      "assert 'a' not in dir()"
     ], 
     "language": "python", 
     "outputs": [], 
     "prompt_number": 20
    }, 
    {
     "cell_type": "code", 
     "collapsed": false, 
     "input": [
      "# id", 
      "assert id(1) == id(1)", 
      "assert type(1) == types.IntType", 
      "assert id(1.0) == id(1.0)", 
      "assert id(1) != id(1.0)"
     ], 
     "language": "python", 
     "outputs": [], 
     "prompt_number": 32
    }, 
    {
     "cell_type": "code", 
     "collapsed": false, 
     "input": [
      "i = 1", 
      "print id(i)", 
      "j = i", 
      "", 
      "assert id(j) == id(i)", 
      "assert i is j", 
      "j = 2", 
      "", 
      "assert id(j) != id(i)", 
      "assert i is not j"
     ], 
     "language": "python", 
     "outputs": [
      {
       "output_type": "stream", 
       "stream": "stdout", 
       "text": [
        "4298182808"
       ]
      }
     ], 
     "prompt_number": 45
    }, 
    {
     "cell_type": "code", 
     "collapsed": false, 
     "input": [], 
     "language": "python", 
     "outputs": [
      {
       "output_type": "stream", 
       "stream": "stdout", 
       "text": [
        "4327715616", 
        "4327750184"
       ]
      }
     ], 
     "prompt_number": 42
    }, 
    {
     "cell_type": "code", 
     "collapsed": true, 
     "input": [], 
     "language": "python", 
     "outputs": [], 
     "prompt_number": "&nbsp;"
    }
   ]
  }
 ]
}