{
 "metadata": {
  "name": "The import statement"
 }, 
 "nbformat": 2, 
 "worksheets": [
  {
   "cells": [
    {
     "cell_type": "code", 
     "collapsed": false, 
     "input": [
      "help(reload)"
     ], 
     "language": "python", 
     "outputs": [
      {
       "output_type": "stream", 
       "stream": "stdout", 
       "text": [
        "Help on built-in function reload in module __builtin__:", 
        "", 
        "reload(...)", 
        "    reload(module) -&gt; module", 
        "    ", 
        "    Reload the module.  The module must have been successfully imported before.", 
        ""
       ]
      }
     ], 
     "prompt_number": 1
    }, 
    {
     "cell_type": "code", 
     "collapsed": false, 
     "input": [
      "# reload(csv)", 
      "# relaod('csv')", 
      "import csv", 
      "# reload('csv')", 
      "reload(csv)"
     ], 
     "language": "python", 
     "outputs": [
      {
       "output_type": "pyout", 
       "prompt_number": 6, 
       "text": [
        "&lt;module &apos;csv&apos; from &apos;/Library/Frameworks/Python.framework/Versions/7.2/lib/python2.7/csv.pyc&apos;&gt;"
       ]
      }
     ], 
     "prompt_number": 6
    }, 
    {
     "cell_type": "code", 
     "collapsed": true, 
     "input": [], 
     "language": "python", 
     "outputs": [], 
     "prompt_number": "&nbsp;"
    }
   ]
  }
 ]
}