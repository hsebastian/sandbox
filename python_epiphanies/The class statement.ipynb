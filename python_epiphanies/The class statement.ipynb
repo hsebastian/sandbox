{
 "metadata": {
  "name": "The class statement"
 }, 
 "nbformat": 2, 
 "worksheets": [
  {
   "cells": [
    {
     "cell_type": "code", 
     "collapsed": true, 
     "input": [
      "'''", 
      "Bound method vs unbound method", 
      "'''"
     ], 
     "language": "python", 
     "outputs": [], 
     "prompt_number": "&nbsp;"
    }, 
    {
     "cell_type": "code", 
     "collapsed": false, 
     "input": [
      "# Exercise 1", 
      "class Prefixer(object):", 
      "    pass"
     ], 
     "language": "python", 
     "outputs": [], 
     "prompt_number": 6
    }, 
    {
     "cell_type": "code", 
     "collapsed": false, 
     "input": [
      "def prefix(self, prefix):", 
      "    self.prefix = prefix", 
      "Prefixer.__init__ = prefix", 
      "arrow = Prefixer('-> ')", 
      "# assert arrow.prepend(['line 1', 'line 2']) == ['-> line 1', '-> line 2']"
     ], 
     "language": "python", 
     "outputs": [], 
     "prompt_number": 16
    }, 
    {
     "cell_type": "code", 
     "collapsed": true, 
     "input": [
      "def prepend(self, m):", 
      "    for item in m:", 
      "        item = ''.join(self.prefix, item)", 
      "arrow.prepend = prepend"
     ], 
     "language": "python", 
     "outputs": [], 
     "prompt_number": 17
    }, 
    {
     "cell_type": "code", 
     "collapsed": false, 
     "input": [
      "assert arrow.prepend(['line 1', 'line 2']) == ['-> line 1', '-> line 2']"
     ], 
     "language": "python", 
     "outputs": [
      {
       "ename": "TypeError", 
       "evalue": "prepend() takes exactly 2 arguments (1 given)", 
       "output_type": "pyerr", 
       "traceback": [
        "<span class=\"ansired\">---------------------------------------------------------------------------</span>\n<span class=\"ansired\">TypeError</span>                                 Traceback (most recent call last)", 
        "<span class=\"ansigreen\">/Users/hsebastian/Code/sandbox/python_epiphanies/&lt;ipython-input-15-d2468ae28e43&gt;</span> in <span class=\"ansicyan\">&lt;module&gt;</span><span class=\"ansiblue\">()</span>\n<span class=\"ansigreen\">----&gt; 1</span><span class=\"ansired\"> </span><span class=\"ansigreen\">assert</span> arrow<span class=\"ansiblue\">.</span>prepend<span class=\"ansiblue\">(</span><span class=\"ansiblue\">[</span><span class=\"ansiblue\">&apos;line 1&apos;</span><span class=\"ansiblue\">,</span> <span class=\"ansiblue\">&apos;line 2&apos;</span><span class=\"ansiblue\">]</span><span class=\"ansiblue\">)</span> <span class=\"ansiblue\">==</span> <span class=\"ansiblue\">[</span><span class=\"ansiblue\">&apos;-&gt; line 1&apos;</span><span class=\"ansiblue\">,</span> <span class=\"ansiblue\">&apos;-&gt; line 2&apos;</span><span class=\"ansiblue\">]</span><span class=\"ansiblue\"></span>\n", 
        "<span class=\"ansired\">TypeError</span>: prepend() takes exactly 2 arguments (1 given)"
       ]
      }
     ], 
     "prompt_number": 15
    }, 
    {
     "cell_type": "code", 
     "collapsed": true, 
     "input": [
      "# Exercise 2", 
      "def one(name, bases, attrs):", 
      "    return 1"
     ], 
     "language": "python", 
     "outputs": [], 
     "prompt_number": 18
    }, 
    {
     "cell_type": "code", 
     "collapsed": true, 
     "input": [
      "class x:", 
      "    __metaclass__ = one"
     ], 
     "language": "python", 
     "outputs": [], 
     "prompt_number": 19
    }, 
    {
     "cell_type": "code", 
     "collapsed": false, 
     "input": [
      "x"
     ], 
     "language": "python", 
     "outputs": [
      {
       "output_type": "pyout", 
       "prompt_number": 20, 
       "text": [
        "1"
       ]
      }
     ], 
     "prompt_number": 20
    }, 
    {
     "cell_type": "code", 
     "collapsed": true, 
     "input": [
      "def two(klass):", 
      "    return 2"
     ], 
     "language": "python", 
     "outputs": [], 
     "prompt_number": 21
    }, 
    {
     "cell_type": "code", 
     "collapsed": false, 
     "input": [
      "@two", 
      "class y(object):", 
      "    pass", 
      "y"
     ], 
     "language": "python", 
     "outputs": [
      {
       "output_type": "pyout", 
       "prompt_number": 22, 
       "text": [
        "2"
       ]
      }
     ], 
     "prompt_number": 22
    }, 
    {
     "cell_type": "code", 
     "collapsed": false, 
     "input": [
      "dir(y)"
     ], 
     "language": "python", 
     "outputs": [
      {
       "output_type": "pyout", 
       "prompt_number": 23, 
       "text": [
        "[&apos;__abs__&apos;,", 
        " &apos;__add__&apos;,", 
        " &apos;__and__&apos;,", 
        " &apos;__class__&apos;,", 
        " &apos;__cmp__&apos;,", 
        " &apos;__coerce__&apos;,", 
        " &apos;__delattr__&apos;,", 
        " &apos;__div__&apos;,", 
        " &apos;__divmod__&apos;,", 
        " &apos;__doc__&apos;,", 
        " &apos;__float__&apos;,", 
        " &apos;__floordiv__&apos;,", 
        " &apos;__format__&apos;,", 
        " &apos;__getattribute__&apos;,", 
        " &apos;__getnewargs__&apos;,", 
        " &apos;__hash__&apos;,", 
        " &apos;__hex__&apos;,", 
        " &apos;__index__&apos;,", 
        " &apos;__init__&apos;,", 
        " &apos;__int__&apos;,", 
        " &apos;__invert__&apos;,", 
        " &apos;__long__&apos;,", 
        " &apos;__lshift__&apos;,", 
        " &apos;__mod__&apos;,", 
        " &apos;__mul__&apos;,", 
        " &apos;__neg__&apos;,", 
        " &apos;__new__&apos;,", 
        " &apos;__nonzero__&apos;,", 
        " &apos;__oct__&apos;,", 
        " &apos;__or__&apos;,", 
        " &apos;__pos__&apos;,", 
        " &apos;__pow__&apos;,", 
        " &apos;__radd__&apos;,", 
        " &apos;__rand__&apos;,", 
        " &apos;__rdiv__&apos;,", 
        " &apos;__rdivmod__&apos;,", 
        " &apos;__reduce__&apos;,", 
        " &apos;__reduce_ex__&apos;,", 
        " &apos;__repr__&apos;,", 
        " &apos;__rfloordiv__&apos;,", 
        " &apos;__rlshift__&apos;,", 
        " &apos;__rmod__&apos;,", 
        " &apos;__rmul__&apos;,", 
        " &apos;__ror__&apos;,", 
        " &apos;__rpow__&apos;,", 
        " &apos;__rrshift__&apos;,", 
        " &apos;__rshift__&apos;,", 
        " &apos;__rsub__&apos;,", 
        " &apos;__rtruediv__&apos;,", 
        " &apos;__rxor__&apos;,", 
        " &apos;__setattr__&apos;,", 
        " &apos;__sizeof__&apos;,", 
        " &apos;__str__&apos;,", 
        " &apos;__sub__&apos;,", 
        " &apos;__subclasshook__&apos;,", 
        " &apos;__truediv__&apos;,", 
        " &apos;__trunc__&apos;,", 
        " &apos;__xor__&apos;,", 
        " &apos;bit_length&apos;,", 
        " &apos;conjugate&apos;,", 
        " &apos;denominator&apos;,", 
        " &apos;imag&apos;,", 
        " &apos;numerator&apos;,", 
        " &apos;real&apos;]"
       ]
      }
     ], 
     "prompt_number": 23
    }, 
    {
     "cell_type": "code", 
     "collapsed": true, 
     "input": [], 
     "language": "python", 
     "outputs": [], 
     "prompt_number": "&nbsp;"
    }
   ]
  }
 ]
}